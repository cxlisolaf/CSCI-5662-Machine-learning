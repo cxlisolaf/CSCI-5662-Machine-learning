{
 "cells": [
  {
   "cell_type": "markdown",
   "metadata": {},
   "source": [
    "# Learning Theory Homework \n",
    "***\n",
    "**Name**: Xiaolan Cai \n",
    "***\n",
    "\n",
    "This assignment is due on Moodle by **5pm on Friday March 9th**. Submit only this Jupyter notebook to Moodle. Do not compress it using tar, rar, zip, etc. Your solutions to analysis questions should be done in Markdown directly below the associated question.  Remember that you are encouraged to discuss the problems with your instructors and classmates, but **you must write all code and solutions on your own**.  For a refresher on the course **Collaboration Policy** click [here](https://github.com/chrisketelsen/CSCI5622-Machine-Learning/blob/master/resources/syllabus.md#collaboration-policy)\n",
    "\n"
   ]
  },
  {
   "cell_type": "markdown",
   "metadata": {},
   "source": [
    "## Overview \n",
    "***\n",
    "\n",
    "In this assignment you will explore the concepts of PAC learnability and VC dimension. \n"
   ]
  },
  {
   "cell_type": "markdown",
   "metadata": {},
   "source": [
    "### [15 points] Problem 1: \n",
    "***\n",
    "\n",
    "Consider the class C of concepts defined by triangles with **distinct** vertices of the form $(i, j)$ where $i$ and $j$ are integers in the interval $[0,99]$. A concept c labels points on the interior and boundary of the associated triangle as positive and points exterior to the triangle as negative.\n",
    "\n",
    "**Note**: To make life easier, we'll allow degenerate triangles in $C$. That is, triangles where the vertices are collinear. The following image depicts an example of a nondegenerate and a degenerate triangle."
   ]
  },
  {
   "cell_type": "markdown",
   "metadata": {},
   "source": [
    "<img src=\"figs/triangles.png\" width=400 height=50>  "
   ]
  },
  {
   "cell_type": "markdown",
   "metadata": {},
   "source": [
    "**Part A**: Suppose we have an algorithm that produces a consistent $h$ from the hypothesis class $H = C$. Give a bound on the number of training examples sufficient to assure that for any target concept $c$ in $C$, our algorithm will, with probability $1-\\delta$, output a hypothesis $h$ with generalization error at most $\\epsilon$."
   ]
  },
  {
   "cell_type": "markdown",
   "metadata": {
    "collapsed": true
   },
   "source": [
    "we can use the general bound for finite consistent hypothesis classes, which is:\n",
    "\n",
    "$$\n",
    "m \\geq \\frac{1}{\\epsilon}\\left(\\ln\\left| H \\right| + \\ln\\frac{1}{\\delta} \\right)\n",
    "$$\n",
    "\n",
    "We need to determine the cardinality of hypothesis class $H$. Since each vertice of the triangle are integer pairs in interval $[0,99]$ , we want to choose the three points as a combination from the values $0,1, \\ldots, 100 \\times 100$. \n",
    "\n",
    "$$\n",
    "{{10000}\\choose{3}} = \\frac{10000\\times 9999 \\times 9998}{3 \\times 2} = 166,616,670,000\t\n",
    "$$\n",
    "\n",
    "thus $\\ln\\left| H \\right| = 25.84$\n",
    "\n",
    "\n",
    "\n",
    "$$\n",
    "m \\geq \\frac{1}{\\epsilon}\\left(25.84 + \\ln\\frac{1}{\\delta} \\right)\n",
    "$$"
   ]
  },
  {
   "cell_type": "markdown",
   "metadata": {},
   "source": [
    "**Part B**: Based on your bound in **Part A**, determine the minimum number of training examples necessary such that for any target concept $c$ in $C$, our algorithm will, with probability $0.95$, output a hypothesis $h$ with generalization error at most $0.15$.  "
   ]
  },
  {
   "cell_type": "markdown",
   "metadata": {
    "collapsed": true
   },
   "source": [
    "so with generalization error  ${\\epsilon} =0.15$,  $ {\\delta} =1-0.95 $\n",
    "\n",
    "$$m \\geq \\frac{1}{0.15} \\left(25.84+ ln\\frac{1}{1-0.95}\\right) =  192.3  $$\n",
    "\n",
    "which means we'll achieve our accuracy and confidence goals with $m \\geq 193$ training examples. "
   ]
  },
  {
   "cell_type": "markdown",
   "metadata": {},
   "source": [
    "### [15 points] Problem 2: \n",
    "***\n",
    "\n",
    "Consider feature vectors that live in two-dimensional space and the class of hypotheses defined by circles **centered at the origin**. There are two different kinds of hypotheses $h$ in this class. One type of hypthesis classifies points as positive if they lie on the boundary or **interior** of the circle, and negative otherwise. The other type of hypothesis classifies points as positive if they lie on the boundary or **exterior** of the circle, and negative otherwise. State and prove (rigorously) the VC dimension of this family of classifiers."
   ]
  },
  {
   "cell_type": "markdown",
   "metadata": {},
   "source": [
    "First see if we can shatter a set of 2 points:"
   ]
  },
  {
   "cell_type": "code",
   "execution_count": 31,
   "metadata": {},
   "outputs": [
    {
     "data": {
      "text/plain": [
       "<matplotlib.collections.PathCollection at 0x120083240>"
      ]
     },
     "execution_count": 31,
     "metadata": {},
     "output_type": "execute_result"
    },
    {
     "data": {
      "image/png": "[encoded data removed]",
      "text/plain": [
       "<matplotlib.figure.Figure at 0x11bf26cf8>"
      ]
     },
     "metadata": {},
     "output_type": "display_data"
    }
   ],
   "source": [
    "import matplotlib.pylab as plt\n",
    "%matplotlib inline\n",
    "\n",
    "mycolors = {\"blue\":\"steelblue\", \"red\":\"#a76c6e\",  \"green\":\"#6a9373\", \"smoke\":\"#f2f2f2\"}\n",
    "fig, axes = plt.subplots(nrows=1, ncols=4, figsize=(20,4))\n",
    "axes[0].add_patch(plt.Circle((0, 0), 2, color='black'))\n",
    "axes[0].set_xlim([-2.5, 4])\n",
    "axes[0].set_ylim([-2.5, 4])\n",
    "axes[0].scatter([1,0], [0,1], color=[mycolors[\"red\"], mycolors[\"red\"]], s=150, zorder=2)\n",
    "axes[1].add_patch(plt.Circle((0, 0), 2, color='black'))\n",
    "axes[1].set_xlim([-2.5, 4])\n",
    "axes[1].set_ylim([-2.5, 4])\n",
    "axes[1].scatter([1,0], [3,1], color=[mycolors[\"blue\"], mycolors[\"red\"]], s=150, zorder=2)\n",
    "axes[2].add_patch(plt.Circle((0, 0), 2, color='black'))\n",
    "axes[2].set_xlim([-2.5, 4])\n",
    "axes[2].set_ylim([-2.5, 4])\n",
    "axes[2].scatter([1,3], [0,1], color=[mycolors[\"blue\"], mycolors[\"red\"]], s=150, zorder=2)\n",
    "axes[3].add_patch(plt.Circle((0, 0), 2, color='black'))\n",
    "axes[3].set_xlim([-2.5, 4])\n",
    "axes[3].set_ylim([-2.5, 4])\n",
    "axes[3].scatter([1,3], [3,1], color=[mycolors[\"blue\"], mycolors[\"blue\"]], s=150, zorder=2)"
   ]
  },
  {
   "cell_type": "markdown",
   "metadata": {},
   "source": [
    "So $ VCdim(H) \\geq 2$"
   ]
  },
  {
   "cell_type": "markdown",
   "metadata": {},
   "source": [
    "When deciding the decision boundary, the thing that matters is the radius of the circle R and the distance of the point to the origin centre. Suppose we have three points $x_1,x_2,x_3$, and the distance from the three points to the centre of the circle are $r_1,r_2,r_3$.  Without loss of generality, order them such that $ r_1 \\leq r_2 \\leq r_3$. Our classifier can be defined by the decision rule $y_k = h_r(r_k) = 1$ if $r_k \\leq R$ and $y_k = h_r(r_k)=-1$ if $r_k > R$. Now consider the labeling of the three points such that $y_1 = +1$, $y_2 = -1$, and $y_3 = +1$. \n",
    "\n",
    "If our classifier captures this dichotomy then we must have both $r_1 \\leq R$ and $r_3 \\leq R$ since they are positively labeled.  This then gives us $r_1 \\leq r_2 \\leq r_3 \\leq R$.  But this is a contradiction because $y_2 = -1$. \n",
    "\n",
    "A similar argument shows that if the hypothesis $y_k = h_r(r_k) = 1$ if $r_k \\geq R$ and $-1$ otherwise is insufficient to handle 3 points. \n",
    "\n",
    "Thus, no collection of 3 points can be shattered.\n",
    "\n",
    "The VCdim is 2."
   ]
  },
  {
   "cell_type": "markdown",
   "metadata": {},
   "source": [
    "### [20 points] Problem 3: Empirical Verification of PAC Bounds for Axis-Aligned Rectangles \n",
    "***\n",
    "\n",
    "In the in-class notebook associated with PAC Learnability, we proved a PAC bound for the class of concepts $C$ comprised of axis-aligned rectangles living in $\\mathbb{R}^2$ of the form $(a \\leq x \\leq b) \\wedge (c \\leq y \\leq d)$ where $a, b, c, d$ are real numbers. Specifically, we proved that with probability $1-\\delta$, any consistent learner could learn a hypothesis $h$ in $H = C$ with generalization error less than $\\epsilon$ provided that the number of training examples satisfied \n",
    "\n",
    "$$\n",
    "m > \\frac{4}{\\epsilon}\\log\\frac{4}{\\delta}\n",
    "$$\n",
    "\n",
    "In this problem you will empirically verify this bound for the restricted concept class $C$ where the rectangles are defined by $(a \\leq x \\leq b) \\wedge (c \\leq y \\leq d)$ where $a, b, c, d$ are real numbers satisfying $0 \\leq a \\leq b \\leq 100$ and $0 \\leq c \\leq d \\leq 100$. \n",
    "\n",
    "**Part A**: The following is a general outline of how you should accomplish this, but it is up to you how you organize your code. "
   ]
  },
  {
   "cell_type": "markdown",
   "metadata": {},
   "source": [
    "- Write some code that randomly generates a concept rectangle $c$. \n",
    "\n",
    "\n",
    "\n",
    "- Write some code that, given feature vectors of length-2, labels them according to some rectangle (that is, labels a point positive if the point is on the boundary or interior of the rectangle, and negative otherwise).  \n",
    "\n",
    "\n",
    "\n",
    "- Write some code that, given training examples of length-2, and labeled according to a concept $c$, returns a consistent hypothesis rectangle $h$. \n",
    "\n",
    "\n",
    "\n",
    "- Write some code that generates a training set of size $m$, labels them according to a random concept $c$, learns a consistent hypothesis $h$, and then approximates the generalization error by predicting on $1000$ new examples from the same distribution as the training data. \n",
    "\n",
    "\n",
    "- Write some code that computes approximate generalization errors for $100$ independent concepts $c$ and associated training sets of size $m$, and returns the worst-case generalization error at the confidence level $1-\\delta$.  One way to do this in the case that say $\\delta = 0.05$, is to report the $95^\\textrm{th}$ percentile of the $100$ samples of the generalization error. We can then say that, in our simulation, $100(1-\\delta)\\%$ of our observed generalization errors were less than our computed value. (**Bonus**: If your code is efficient, try increasing the number of runs in the simulation to $500$. This should give you a better approximation of the generalization error.) "
   ]
  },
  {
   "cell_type": "code",
   "execution_count": 148,
   "metadata": {},
   "outputs": [
    {
     "data": {
      "text/plain": [
       "0.22955208333333332"
      ]
     },
     "execution_count": 148,
     "metadata": {},
     "output_type": "execute_result"
    }
   ],
   "source": [
    "import numpy as np\n",
    "\n",
    "#step 1\n",
    "up_lf_x = np.random.uniform(0,100,1) #a\n",
    "up_lf_y = np.random.uniform(0,100,1) #d\n",
    "bt_rt_x = np.random.uniform(0,100,1) #b\n",
    "bt_rt_y = np.random.uniform(0,100,1) #c\n",
    "\n",
    "#step 2\n",
    "#concept rectangle\n",
    "c = [[up_lf_x,up_lf_y],[bt_rt_x,bt_rt_y]] \n",
    "\n",
    "feature = [[np.random.uniform(0,100,1),np.random.uniform(0,100,1)],[np.random.uniform(0,100,1),np.random.uniform(0,100,1)]]\n",
    "lable_1 = []\n",
    "\n",
    "if feature[0][0] <= c[1][0] and feature[0][0] >= c[0][0] and feature[0][1] <= c[0][1] and feature[0][1] >= c[1][1]:\n",
    "    lable_1.append(1)\n",
    "else:\n",
    "    lable_1.append(-1)\n",
    "\n",
    "if feature[1][0] <= c[1][0] and feature[1][0] >= c[0][0] and feature[1][1] <= c[0][1] and feature[1][1] >= c[1][1]:\n",
    "    lable_1.append(1)\n",
    "else:\n",
    "    lable_1.append(-1)\n",
    "    \n",
    "\n",
    "#step 3\n",
    "train_data = [[np.random.uniform(0,100,1),np.random.uniform(0,100,1)],[np.random.uniform(0,100,1),np.random.uniform(0,100,1)]]\n",
    "\n",
    "lable = []\n",
    "\n",
    "#return a consistent hypothesis rectangle\n",
    "h = []\n",
    "\n",
    "if c[0][0]<= train_data[0][0] <= c[1][0] and c[1][1] <= train_data[0][1] <= c[0][1]:\n",
    "    lable.append(1)\n",
    "    h.append([train_data[0][0],train_data[0][1]])\n",
    "    \n",
    "else:\n",
    "    lable.append(-1)\n",
    "\n",
    "if c[0][0] <= train_data[1][0] <= c[1][0] and c[1][1] <= train_data[1][1] <= c[0][1]:\n",
    "    lable.append(1)\n",
    "    h.append([train_data[1][0],train_data[1][1]])\n",
    "    \n",
    "else:\n",
    "    lable.append(-1)\n",
    "\n",
    "    \n",
    "#step 4\n",
    "\n",
    "def predict(m):\n",
    "    \n",
    "    label_m = []\n",
    "    pos_x = []\n",
    "    pos_y = []\n",
    "    h = []\n",
    "    c_label = []\n",
    "    h_label = []\n",
    "    \n",
    "    sample_x = np.random.uniform(0,100,m)\n",
    "    sample_y = np.random.uniform(0,100,m)\n",
    "    \n",
    "    new_x = np.random.uniform(0,100,1000)\n",
    "    new_y = np.random.uniform(0,100,1000)\n",
    "    \n",
    "    concept_x = np.sort(np.random.uniform(0,100,2))\n",
    "    concept_y = np.sort(np.random.uniform(0,100,2))\n",
    "    \n",
    "    for i in range(0,m):\n",
    "            \n",
    "        if concept_x[0] <= sample_x[i] <= concept_x[1] and concept_y[0] <= sample_y[i] <= concept_y[1]:\n",
    "            pos_x.append(sample_x[i])\n",
    "            pos_y.append(sample_y[i])\n",
    "            label_m.append(1)\n",
    "            \n",
    "\n",
    "        else:\n",
    "            label_m.append(-1)\n",
    "            \n",
    "    if pos_x:         \n",
    "        min_x = min(pos_x)\n",
    "        max_x = max(pos_x)\n",
    "        min_y = min(pos_y)\n",
    "        max_y = max(pos_y)\n",
    "        \n",
    "        #consistent hypothesis h diagonal points\n",
    "        h.append([min_x,min_y])\n",
    "        h.append([max_x,max_y])\n",
    "    \n",
    "    #print(pos_x,pos_y)\n",
    "    #print(label_m)\n",
    "    #print(h)\n",
    "    \n",
    "    for j in range(0,1000):\n",
    "        \n",
    "        if concept_x[0] <= new_x[j] <= concept_x[1] and concept_y[0] <= new_y[j] <= concept_y[1]:\n",
    "            c_label.append(1)\n",
    "            \n",
    "        else:\n",
    "            c_label.append(-1)\n",
    "        \n",
    "        if h[0][0] <= new_x[j] <= h[1][0] and h[0][1] <= new_y[j] <= h[1][1]:\n",
    "            h_label.append(1)\n",
    "        \n",
    "        else:\n",
    "            h_label.append(-1)\n",
    "        \n",
    "    #print(len(c_label))\n",
    "    #print(len(h_label))\n",
    "    match = [i for i, j in zip(h_label, c_label) if i == j]\n",
    "    error = 1 - len(match)/len(c_label)\n",
    "    \n",
    "    return error\n",
    "\n",
    "\n",
    "\n",
    "#predict(500)\n",
    "\n",
    "\n",
    "\n",
    "#step 5\n",
    "\n",
    "def predict_mc(m,delta):\n",
    "    \n",
    "    label_m = []\n",
    "    pos_x = []\n",
    "    pos_y = []\n",
    "    h = []\n",
    "    c_label = []\n",
    "    h_label = []\n",
    "    error_list = []\n",
    "    \n",
    "    sample_x = np.random.uniform(0,100,m)\n",
    "    sample_y = np.random.uniform(0,100,m)\n",
    "    \n",
    "    new_x = np.random.uniform(0,100,1000)\n",
    "    new_y = np.random.uniform(0,100,1000)\n",
    "    \n",
    "    for ii in range(0,100):\n",
    "    \n",
    "        concept_x = np.sort(np.random.uniform(0,100,2))\n",
    "        concept_y = np.sort(np.random.uniform(0,100,2))\n",
    "    \n",
    "        for i in range(0,m):\n",
    "\n",
    "            if concept_x[0] <= sample_x[i] <= concept_x[1] and concept_y[0] <= sample_y[i] <= concept_y[1]:\n",
    "                pos_x.append(sample_x[i])\n",
    "                pos_y.append(sample_y[i])\n",
    "                label_m.append(1)\n",
    "\n",
    "\n",
    "            else:\n",
    "                label_m.append(-1)\n",
    "\n",
    "        if pos_x:         \n",
    "            min_x = min(pos_x)\n",
    "            max_x = max(pos_x)\n",
    "            min_y = min(pos_y)\n",
    "            max_y = max(pos_y)\n",
    "\n",
    "            #consistent hypothesis h diagonal points\n",
    "            h.append([min_x,min_y])\n",
    "            h.append([max_x,max_y])\n",
    "\n",
    "        #print(pos_x,pos_y)\n",
    "        #print(label_m)\n",
    "        #print(h)\n",
    "\n",
    "        for j in range(0,1000):\n",
    "\n",
    "            if concept_x[0] <= new_x[j] <= concept_x[1] and concept_y[0] <= new_y[j] <= concept_y[1]:\n",
    "                c_label.append(1)\n",
    "\n",
    "            else:\n",
    "                c_label.append(-1)\n",
    "    \n",
    "            if h:\n",
    "                if h[0][0] <= new_x[j] <= h[1][0] and h[0][1] <= new_y[j] <= h[1][1]:\n",
    "                    h_label.append(1)\n",
    "\n",
    "                else:\n",
    "                    h_label.append(-1)\n",
    "            else:\n",
    "                h_label.append(-1)\n",
    "\n",
    "        #print(len(c_label))\n",
    "        #print(len(h_label))\n",
    "        match = [i for i, j in zip(h_label, c_label) if i == j]\n",
    "        error = 1 - len(match)/len(c_label)\n",
    "\n",
    "        error_list.append(error)\n",
    "    \n",
    "    error_list = np.sort(error_list)\n",
    "    #100(1-delta)% th error rate\n",
    "    index = int(100*(1-delta)-1)\n",
    "    worst_error = error_list[index]\n",
    "    \n",
    "    return worst_error\n",
    "    \n",
    "    \n",
    "   \n",
    "predict_mc(500,0.05) \n"
   ]
  },
  {
   "cell_type": "markdown",
   "metadata": {
    "collapsed": true
   },
   "source": [
    "**Part B**: Use your code to estimate the generalization error with confidence parameter $\\delta=0.05$ for training sets of size $m$ where $m = 250, 500, 1000, 1250,$ and $1500$ and the data are comprised of points $(x,y)$ where the $x$- and $y$-values are sampled from the continuous uniform distribution $\\textrm{unif}(0,100)$. Make a **log-log** plot with $m$ on the horizontal axes and $\\epsilon$ on the vertical axis.  Additionally, overlay the theoretical PAC bound on your graph and discuss your results. "
   ]
  },
  {
   "cell_type": "code",
   "execution_count": 172,
   "metadata": {},
   "outputs": [
    {
     "data": {
      "image/png": "[encoded data removed]",
      "text/plain": [
       "<matplotlib.figure.Figure at 0x120a250f0>"
      ]
     },
     "metadata": {},
     "output_type": "display_data"
    }
   ],
   "source": [
    "m_list = [250,500,1000,1250,1500]\n",
    "delta = 0.05\n",
    "x = []\n",
    "y = []\n",
    "e = []\n",
    "for i in range(0,4):\n",
    "    m = m_list[i]\n",
    "    worst_error = predict_mc(m,delta)\n",
    "    x.append(m)\n",
    "    y.append(worst_error)\n",
    "    e.append(4/m*np.log(4/delta))\n",
    "\n",
    "\n",
    "plt.plot(x,y,'r',x,e,'b')\n",
    "plt.ylabel('error rate')\n",
    "plt.xlabel('m')\n",
    "#plt.legend()\n",
    "plt.show()\n",
    "    \n",
    " "
   ]
  },
  {
   "cell_type": "markdown",
   "metadata": {},
   "source": [
    "As shonw in the graph, red line is the worst error rate, and blue is PAC bound. As m get bigger, the worst error rate will go down. As m continue to increase, error rate will drop to low level. But higher than theoratical PAC bound."
   ]
  },
  {
   "attachments": {
    "image.png": {
     "image/png": "[encoded data removed]"
    }
   },
   "cell_type": "markdown",
   "metadata": {},
   "source": [
    "![image.png](attachment:image.png)"
   ]
  },
  {
   "cell_type": "markdown",
   "metadata": {
    "collapsed": true
   },
   "source": [
    "**Part C**: Repeat **Part B** where the data are comprised of points $(x,y)$ where the $x$- and $y$-values are sampled from the normal distribution with mean $\\mu = 50$ and standard deviation $\\sigma = 25$. Again, overlay the theoretical PAC bound on your graph and discuss your results. Do you expect to observe very different results than those observed in **Part B**?  "
   ]
  },
  {
   "cell_type": "markdown",
   "metadata": {},
   "source": [
    "As shonw in the graph, red line is the worst error rate, and blue is PAC bound. When I use normal distribution with mean =50 and std = 25, the result is basicaly the same. The whole trend of error rate is decreasing as m gets bigger."
   ]
  },
  {
   "attachments": {
    "image.png": {
     "image/png": "[encoded data removed]"
    }
   },
   "cell_type": "markdown",
   "metadata": {
    "collapsed": true
   },
   "source": [
    "![image.png](attachment:image.png)"
   ]
  }
 ],
 "metadata": {
  "kernelspec": {
   "display_name": "Python 3",
   "language": "python",
   "name": "python3"
  },
  "language_info": {
   "codemirror_mode": {
    "name": "ipython",
    "version": 3
   },
   "file_extension": ".py",
   "mimetype": "text/x-python",
   "name": "python",
   "nbconvert_exporter": "python",
   "pygments_lexer": "ipython3",
   "version": "3.6.4"
  }
 },
 "nbformat": 4,
 "nbformat_minor": 2
}
