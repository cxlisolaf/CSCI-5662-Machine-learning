{
 "cells": [
  {
   "cell_type": "markdown",
   "metadata": {},
   "source": [
    "# K-Nearest Neighbors Homework Solutions\n",
    "***\n",
    "**Name**: $<$Xiaolan Cai$>$ \n",
    "***\n",
    "\n",
    "This assignment is due on Moodle by **5pm on Friday January 26th**. Submit only this Jupyter notebook to Moodle.  Do not compress it using tar, rar, zip, etc. Your solutions to analysis questions should be done in Markdown directly below the associated question.  Remember that you are encouraged to discuss the problems with your instructors and classmates, but **you must write all code and solutions on your own**.  For a refresher on the course **Collaboration Policy** click [here](https://github.com/chrisketelsen/CSCI5622-Machine-Learning/blob/master/resources/syllabus.md#collaboration-policy)\n",
    "\n"
   ]
  },
  {
   "cell_type": "markdown",
   "metadata": {},
   "source": [
    "## Overview \n",
    "***\n",
    "\n",
    "\n",
    "In this homework you'll implement a K-Nearest Neighbor framework to take an image of a handwritten digit and predict which digit it corresponds to.  \n",
    "\n",
    "<br>\n",
    "\n",
    "![Samples of Handwritten Digits](wide_mnist.png \"MNIST Digits\")\n",
    "\n",
    "\n",
    "<br>\n",
    "\n",
    "This homework is designed to be pretty easy. If you're spending a ton of time on this assignment, then you are either:\n",
    "\n",
    "- not prepared to take this course (i.e., if you're struggling with Python)\n",
    "- seriously over-thinking the assignment\n",
    "- trying to implement too much of KNN from scratch\n",
    "\n",
    "\n",
    "Most of this assignment will be done by calling libraries that are already implemented for you. If you are implementing $n$-dimensional search or your own distance metrics, you are generating extra work for yourself and making yourself vulnerable to errors. \n",
    "\n",
    "Here are the rules: \n",
    "\n",
    "- Do **NOT** load or use any Python packages that are not available in Anaconda 3.6. \n",
    "- Some problems with code may be autograded.  If we provide a function or class API **do not** change it.\n",
    "- Do not change the location of the data or data directory.  Use only relative paths to access the data. "
   ]
  },
  {
   "cell_type": "code",
   "execution_count": 142,
   "metadata": {
    "scrolled": false
   },
   "outputs": [],
   "source": [
    "import numpy as np\n",
    "import matplotlib.pylab as plt\n",
    "%matplotlib inline "
   ]
  },
  {
   "cell_type": "markdown",
   "metadata": {},
   "source": [
    "### [5 points] Problem 1\n",
    "***\n",
    "\n",
    "The class below will load and store the MNIST data.  Load the data and then report: \n",
    "- The number of examples in the training set \n",
    "- The number of examples in the test set \n",
    "- The number of pixels in each image. "
   ]
  },
  {
   "cell_type": "code",
   "execution_count": 143,
   "metadata": {},
   "outputs": [],
   "source": [
    "class Numbers:\n",
    "    \"\"\"\n",
    "    Class to store MNIST data\n",
    "    \"\"\"\n",
    "    def __init__(self, location):\n",
    "\n",
    "        import pickle, gzip\n",
    "\n",
    "        # load data from file \n",
    "        \n",
    "        f = gzip.open(location, 'rb')\n",
    "        train_set, valid_set, test_set = pickle.load(f)\n",
    "        f.close()\n",
    "\n",
    "        # store for use later  \n",
    "        self.train_x, self.train_y = train_set\n",
    "        self.test_x, self.test_y = valid_set"
   ]
  },
  {
   "cell_type": "code",
   "execution_count": 144,
   "metadata": {
    "scrolled": true
   },
   "outputs": [
    {
     "name": "stdout",
     "output_type": "stream",
     "text": [
      "the number of examples in training set = 50000\n",
      "the number of examples in test set = 10000\n",
      "the number of pixels in an image=784\n"
     ]
    }
   ],
   "source": [
    "data = Numbers(\"../data/mnist.pklz\")\n",
    "#img = plt.imshow(data.train_x[0].reshape(28,28))\n",
    "print(\"the number of examples in training set = %d\" % len(data.train_x))\n",
    "print(\"the number of examples in test set = %d\" % len(data.test_y))\n",
    "print(\"the number of pixels in an image=%d\" % len(data.train_x[0]))\n"
   ]
  },
  {
   "cell_type": "markdown",
   "metadata": {},
   "source": [
    "The number of examples in the training set is 50,000\n",
    "The number of examoles in test set is 10,000\n",
    "The number of pixels in an image is 784"
   ]
  },
  {
   "cell_type": "markdown",
   "metadata": {},
   "source": [
    "### [30 points] Problem 2\n",
    "***\n",
    "\n",
    "The class below will perform K-Nearest Neighbor classification on our handwritten digit data. Your tasks are as follows:   \n",
    "\n",
    "1. Modify the `label_counts` function to return a dictionary of frequencies corresponding to each label in the training set. \n",
    "1. Modify the `majority` function so that it returns the _label_ that appears most frequently in the $K$-nearest neighbors of the query point.  In the case that the maximum frequency occurs for two or more labels, return the one that appears most frequently in the entire training set. In the case that there is still a tie, break the tie in any way that you choose. \n",
    "1. Modify the `classify` function so that it finds the _indices_ of the $K$ closest training examples to the query point and then calls the `majority` function to return the predicted label. Almost all of the heavy lifting here will be done by the BallTree object from `sklearn.neighbors`, so you'll want to start out by reading the [documentation](http://scikit-learn.org/stable/modules/generated/sklearn.neighbors.BallTree.html).  \n",
    "1. Modify the `confusion_matrix` function to classify examples and record the results in a confusion matrix. You should construct the confusion matrix on your own.  Don't call any additional functions from sklearn to do it for you.\n",
    "\n",
    "The class Knearest also implements an `accuracy` function which you will use in **Problem 3**.  You should not have to modify this function. \n",
    "\n",
    "We've given you unit tests down below based on the simple example worked out in lecture.  At first your code will fail all of them.  Do not move on to **Problem 3** until your code passes all of the unit tests. In addition, passing the unit tests does not guarantee that your implementation is robust and that you'll earn full points on this problem.  You should be designing your own additional tests as well. "
   ]
  },
  {
   "cell_type": "code",
   "execution_count": 145,
   "metadata": {},
   "outputs": [],
   "source": [
    "class Knearest:\n",
    "    \"\"\"\n",
    "    kNN classifier\n",
    "    \"\"\"\n",
    "\n",
    "    def __init__(self, X, y, k=5):\n",
    "        \"\"\"\n",
    "        Creates a kNN instance\n",
    "\n",
    "        :param x: Training data input\n",
    "        :param y: Training data output\n",
    "        :param k: The number of nearest points to consider in classification\n",
    "        \"\"\"\n",
    "        \n",
    "        from sklearn.neighbors import BallTree\n",
    "\n",
    "        self._kdtree = BallTree(X)\n",
    "        self._y = y\n",
    "        self._k = k\n",
    "        self._counts = self.label_counts()\n",
    "        \n",
    "    def label_counts(self):\n",
    "        \"\"\"\n",
    "        Given the training labels, return a dictionary d where d[y] is  \n",
    "        the number of times that label y appears in the training set. \n",
    "        \"\"\"\n",
    "        d={}\n",
    "        for item in self._y:\n",
    "            if item in d:\n",
    "                d[item] += 1\n",
    "            else:\n",
    "                d[item] = 1\n",
    "                \n",
    "        #for key,value in d.items():\n",
    "        #    print(str(k)+':'+str(v))  \n",
    "        \n",
    "        #easier way to do\n",
    "        #unique,counts = np.unique(self._y,return_counts=True)     \n",
    "        #d = dict(zip(unique,counts))\n",
    "        #return dict({1:0, -1:0})\n",
    "\n",
    "        return d\n",
    "\n",
    "    def majority(self, neighbor_indices):\n",
    "        \"\"\"\n",
    "        Given the indices of training examples, return the majority label. Break ties \n",
    "        by choosing the tied label that appears most often in the training data. \n",
    "\n",
    "        :param neighbor_indices: The indices of the k nearest neighbors\n",
    "        \"\"\"\n",
    "\n",
    "        #assert len(neighbor_indices) == self._k, \"Did not get k neighbor indices\"\n",
    "        \n",
    "        max_freq = 0\n",
    "        majority_lable = 0\n",
    "        for item in self._counts:\n",
    "            if self._counts[item] >= max_freq:\n",
    "                max_freq = self._counts[item]\n",
    "                majority_lable = item\n",
    "                \n",
    "                \n",
    "        #major_lable_count = max(self._counts.values())\n",
    "        #major_lable = max(self._counts, key = self._counts.get)\n",
    "        \n",
    "        examples = self._y[neighbor_indices]\n",
    "        d = {}\n",
    "        #print(neighbor_indices)\n",
    "        for item in examples:\n",
    "            if item in d:\n",
    "                d[item] += 1\n",
    "            else:\n",
    "                d[item] = 1\n",
    "        \n",
    "        majority_example = {}\n",
    "        max_example = 0\n",
    "        \n",
    "        for item in d:\n",
    "            if d[item] > max_example:\n",
    "                max_example = d[item]\n",
    "                majority_example.clear()\n",
    "                majority_example[item] = max_example\n",
    "            elif d[item] == max_example:\n",
    "                majority_example[item] = max_example\n",
    "        \n",
    "        if len(majority_example) > 1:\n",
    "            return majority_lable\n",
    "              \n",
    "        for key in majority_example.keys():\n",
    "            return key\n",
    "            \n",
    "        #return self._y[neighbor_indices[0]]\n",
    "    \n",
    "\n",
    "    def classify(self, example):\n",
    "        \"\"\"\n",
    "        Given an example, return the predicted label. \n",
    "\n",
    "        :param example: A representation of an example in the same\n",
    "        format as a row of the training data\n",
    "        \"\"\"\n",
    "        dist, ind = self._kdtree.query([example],k=self._k)\n",
    "        \n",
    "        return self.majority(ind[0].flatten())\n",
    "               \n",
    "        #return self.majority([np.random.randint(0,10) for ii in range(self._k)])\n",
    "\n",
    "        \n",
    "    def confusion_matrix(self, test_x, test_y):\n",
    "        \"\"\"\n",
    "        Given a matrix of test examples and labels, compute the confusion\n",
    "        matrix for the current classifier.  Should return a 2-dimensional\n",
    "        numpy array of ints, C, where C[ii,jj] is the number of times an \n",
    "        example with true label ii was labeled as jj.\n",
    "\n",
    "        :param test_x: test data \n",
    "        :param test_y: true test labels \n",
    "        \"\"\"\n",
    "        C = np.zeros((10,10), dtype=int)\n",
    "        pred = []\n",
    "\n",
    "        for i in range(len(test_x)):\n",
    "            xx = self.classify(test_x[i])\n",
    "            \n",
    "            #find the index for the confused example\n",
    "            #if xx == 1 and test_y[i] == 2:\n",
    "            #    print(i)\n",
    "                \n",
    "            pred.append(xx)\n",
    "            C[test_y[i]][xx] += 1\n",
    "            \n",
    "        return C \n",
    "            \n",
    "    @staticmethod\n",
    "    def accuracy(C):\n",
    "        \"\"\"\n",
    "        Given a confusion matrix C, compute the accuracy of the underlying classifier.\n",
    "        \n",
    "        :param C: a confusion matrix \n",
    "        \"\"\"\n",
    "        \n",
    "        return np.sum(C.diagonal()) / C.sum()\n",
    "        "
   ]
  },
  {
   "cell_type": "markdown",
   "metadata": {},
   "source": [
    "Here are the unit tests.  You don't need to modify them.  Simply execute the cell and observe the output. "
   ]
  },
  {
   "cell_type": "code",
   "execution_count": 146,
   "metadata": {
    "scrolled": true
   },
   "outputs": [
    {
     "name": "stderr",
     "output_type": "stream",
     "text": [
      "....\n",
      "----------------------------------------------------------------------\n",
      "Ran 4 tests in 0.008s\n",
      "\n",
      "OK\n"
     ]
    },
    {
     "data": {
      "text/plain": [
       "<unittest.runner.TextTestResult run=4 errors=0 failures=0>"
      ]
     },
     "execution_count": 146,
     "metadata": {},
     "output_type": "execute_result"
    }
   ],
   "source": [
    "import unittest\n",
    "\n",
    "class TestKnn(unittest.TestCase):\n",
    "    def setUp(self):\n",
    "        self.x = np.array([[2, 0], [4, 1], [6, 0], [1, 4], [2, 4], [2, 5], [4, 4], [0, 2], [3, 2], [4, 2], [5, 2], [5, 5]])\n",
    "        self.y = np.array([+1, +1, +1, +1, +1, +1, +1, -1, -1, -1, -1, -1])\n",
    "        self.knn = {}\n",
    "        for ii in [1, 2, 3]:\n",
    "            self.knn[ii] = Knearest(self.x, self.y, ii)\n",
    "\n",
    "        self.queries = np.array([[1, 5], [0, 3], [6, 4]])\n",
    "        \n",
    "    def test0(self):\n",
    "        \"\"\"\n",
    "        Test the label counter \n",
    "        \"\"\"\n",
    "        self.assertEqual(self.knn[1]._counts[-1], 5)\n",
    "        self.assertEqual(self.knn[1]._counts[1], 7)\n",
    "\n",
    "    def test1(self):\n",
    "        \n",
    "        #Test 1NN\n",
    "\n",
    "        self.assertEqual(self.knn[1].classify(self.queries[0]),  1)\n",
    "        self.assertEqual(self.knn[1].classify(self.queries[1]), -1)\n",
    "        self.assertEqual(self.knn[1].classify(self.queries[2]), -1)\n",
    "\n",
    "    def test2(self):\n",
    "    \n",
    "        #Test 2NN\n",
    "        \n",
    "        self.assertEqual(self.knn[2].classify(self.queries[0]),  1)\n",
    "        self.assertEqual(self.knn[2].classify(self.queries[1]),  1)\n",
    "        self.assertEqual(self.knn[2].classify(self.queries[2]),  1)\n",
    "\n",
    "    def test3(self):\n",
    "        \n",
    "        #Test 3NN\n",
    "        \n",
    "        self.assertEqual(self.knn[3].classify(self.queries[0]),  1)\n",
    "        self.assertEqual(self.knn[3].classify(self.queries[1]),  1)\n",
    "        self.assertEqual(self.knn[3].classify(self.queries[2]), -1)\n",
    "        \n",
    "        \n",
    "tests = TestKnn()\n",
    "tests_to_run = unittest.TestLoader().loadTestsFromModule(tests)\n",
    "unittest.TextTestRunner().run(tests_to_run)"
   ]
  },
  {
   "cell_type": "markdown",
   "metadata": {},
   "source": [
    "### [15 points] Problem 3\n",
    "***\n",
    "\n",
    "In this problem you'll explore the performance of the classifier you've written.  A word of advice: don't use the entire training set, especially at first.  We'll be using this dataset again later on with techniques that scale better.    "
   ]
  },
  {
   "cell_type": "markdown",
   "metadata": {},
   "source": [
    "**Part A**: Explore the relationship between the number of training examples and accuracy on the test set. Comment on your findings and support your observations with some kind of graphic. "
   ]
  },
  {
   "cell_type": "code",
   "execution_count": null,
   "metadata": {},
   "outputs": [],
   "source": [
    "\n",
    "accu = []\n",
    "train_num = [800,4000,12000,16000,20000,40000]\n",
    "for item in train_num:\n",
    "    train_x = data.train_x[0:item]\n",
    "    train_y = data.train_y[0:item]\n",
    "    sample = int(item/4)\n",
    "    test_x = data.test_x[0:sample]\n",
    "    test_y = data.test_y[0:sample]\n",
    "\n",
    "    knn_model = Knearest(train_x,train_y)\n",
    "    confusion_matrix = knn_model.confusion_matrix(test_x, test_y)\n",
    "    accuracy = knn_model.accuracy(confusion_matrix)\n",
    "    accu.append(accuracy)\n",
    "\n",
    "#plt.plot([800,4000,12000,16000,20000,40000],[0.85499999999999998, 0.89900000000000002, 0.94333333333333336, 0.94999999999999996, 0.95099999999999996, 0.96940000000000004]\n",
    "#,lw=2)\n",
    "#plt.show()\n",
    "\n",
    "#print(accu)\n"
   ]
  },
  {
   "attachments": {
    "image.png": {
     "image/png": "[encoded data removed]"
    }
   },
   "cell_type": "markdown",
   "metadata": {},
   "source": [
    "By testing with 800, 4000, 12000,16000 and 20000 samples respectively, and the accuracy results are: [0.85499999999999998, 0.89900000000000002, 0.94333333333333336, 0.94999999999999996, 0.95099999999999996, 0.96940000000000004]. we can see the relation between the number of training examples and accuracy is that the more training data there is, the higher accuracy score in general and asymptotic to one. ![image.png](attachment:image.png)"
   ]
  },
  {
   "cell_type": "markdown",
   "metadata": {},
   "source": [
    "**Part B**: Explore the relationship between the number of nearest neighbors and accuracy on the test set. Comment on your findings and support your observations with some kind of graphic. "
   ]
  },
  {
   "cell_type": "code",
   "execution_count": null,
   "metadata": {
    "scrolled": true
   },
   "outputs": [],
   "source": [
    "acc_k = []\n",
    "k = [1,2,3,4,5,6,7,8,9]\n",
    "for item in k:\n",
    "    train_x = data.train_x[0:800]\n",
    "    train_y = data.train_y[0:800]\n",
    "    test_x = data.test_x[0:200]\n",
    "    test_y = data.test_y[0:200]\n",
    "    knn = Knearest(train_x,train_y,k=item)\n",
    "    confusion_matrix = knn.confusion_matrix(test_x,test_y)\n",
    "    accuracy = knn.accuracy(confusion_matrix)\n",
    "    acc_k.append(accuracy)\n",
    "\n",
    "print(acc_k)\n",
    "plt.plot(k,acc_k)\n",
    "plt.show()\n",
    "    "
   ]
  },
  {
   "attachments": {
    "image.png": {
     "image/png": "[encoded data removed]"
    }
   },
   "cell_type": "markdown",
   "metadata": {},
   "source": [
    "By testing k from 1 to 9, we can see that the k with highest accuracy is when k=1 and when k=2 the accuracy is the least. when K=5, the model performs better than k=3,4,6,7,8  ![image.png](attachment:image.png)"
   ]
  },
  {
   "cell_type": "markdown",
   "metadata": {},
   "source": [
    "**Part C**: Which numbers get confused with each other the most easily?  Use the confusion_matrix function that you wrote above to support your conclusion.  Then use the `view_digit` function given below to plot a few examples of misclassified digits and discuss possible reasons for the misclassifications.  (Investigating misclassified examples is called **error analysis** and is an important step in the development of any classification technique).  "
   ]
  },
  {
   "cell_type": "code",
   "execution_count": null,
   "metadata": {},
   "outputs": [],
   "source": [
    "def view_digit(example, label=None):\n",
    "    if label: print(\"true label: {:d}\".format(label))\n",
    "    plt.imshow(example.reshape(28,28), cmap='gray');\n",
    "    \n",
    "train_x = data.train_x[0:800]\n",
    "train_y = data.train_y[0:800]\n",
    "test_x = data.test_x[0:200]\n",
    "test_y = data.test_y[0:200]\n",
    "knn = Knearest(train_x,train_y)\n",
    "confusion_matrix = knn.confusion_matrix(test_x,test_y)\n",
    "print(confusion_matrix)\n",
    "\n",
    "view_digit(test_x[196], test_y[196])"
   ]
  },
  {
   "attachments": {
    "image.png": {
     "image/png": "[encoded data removed]"
    }
   },
   "cell_type": "markdown",
   "metadata": {},
   "source": [
    "The confusion matrix I get when training data=16000 and test data=4000 is as follows: \n",
    "[[247   1   1   0   0   1   2   0   0   0]\n",
    " [  0 269   0   0   0   0   0   1   0   0]\n",
    " [  0   8 216   2   0   0   1   8   0   0]\n",
    " [  0   3   1 238   0   2   0   2   1   3]\n",
    " [  0   5   0   0 209   0   0   0   0  16]\n",
    " [  1   4   1   6   2 211   3   2   1   2]\n",
    " [  2   1   0   0   0   0 250   0   0   0]\n",
    " [  0  10   0   0   0   0   0 261   0   3]\n",
    " [  1   8   0   6   1   0   2   3 238   3]\n",
    " [  1  10   0   1   5   0   0   5   0 219]]\n",
    "\n",
    "The number that most easily get confused is: \n",
    "4, confused with 9\n",
    "below numbers are also get confused of few times:\n",
    "2, confused with 1 and 7\n",
    "7, confused with 1\n",
    "8, confused with 1\n",
    "9, confused with 7\n",
    "\n",
    "examples:\n",
    "1. 4 is confused with 9\n",
    "![image.png](attachment:image.png)\n",
    "\n",
    "in this example, the digit \"4\" upper part is round, that makes it looks like digit \"9\". But the model ignores the break in the round so it predicts \"9\" instead of \"4\".\n",
    "\n",
    "\n",
    "\n",
    "\n",
    "\n",
    "\n"
   ]
  },
  {
   "attachments": {
    "image.png": {
     "image/png": "[encoded data removed]"
    }
   },
   "cell_type": "markdown",
   "metadata": {},
   "source": [
    "2. 2 is confused with 1\n",
    "![image.png](attachment:image.png)\n",
    "in this example, the \"2\" is written like \"1\" in the middle part and the model doesn't recognize the upper and bottom part of the digit\n"
   ]
  },
  {
   "cell_type": "code",
   "execution_count": null,
   "metadata": {},
   "outputs": [],
   "source": []
  }
 ],
 "metadata": {
  "kernelspec": {
   "display_name": "Python 3",
   "language": "python",
   "name": "python3"
  },
  "language_info": {
   "codemirror_mode": {
    "name": "ipython",
    "version": 3
   },
   "file_extension": ".py",
   "mimetype": "text/x-python",
   "name": "python",
   "nbconvert_exporter": "python",
   "pygments_lexer": "ipython3",
   "version": "3.6.4"
  }
 },
 "nbformat": 4,
 "nbformat_minor": 2
}
