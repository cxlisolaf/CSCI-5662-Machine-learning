{
 "cells": [
  {
   "cell_type": "markdown",
   "metadata": {},
   "source": [
    "# Logistic Regression and SGD Homework \n",
    "***\n",
    "**Name**: $<$Xiaolan Cai$>$ \n",
    "***\n",
    "\n",
    "This assignment is due on Moodle by **5pm on Friday February 9th**. Submit only this Jupyter notebook to Moodle.  Do not compress it using tar, rar, zip, etc. Your solutions to analysis questions should be done in Markdown directly below the associated question.  Remember that you are encouraged to discuss the problems with your instructors and classmates, but **you must write all code and solutions on your own**.  For a refresher on the course **Collaboration Policy** click [here](https://github.com/chrisketelsen/CSCI5622-Machine-Learning/blob/master/resources/syllabus.md#collaboration-policy)\n",
    "\n"
   ]
  },
  {
   "cell_type": "markdown",
   "metadata": {},
   "source": [
    "## Overview \n",
    "***\n",
    "\n",
    "\n",
    "In this homework you'll implement stochastic gradient ascent for logistic regression and you'll apply it to the task of determining whether documents are talking about automobiles or motorcycles.\n",
    "\n",
    "<br>\n",
    "\n",
    "![autos_motorcycles](autos_motorcycles.jpg \"A car and a motorcycle\")\n",
    "\n",
    "\n",
    "<br>\n",
    "\n",
    "You should not use any libraries that implement any of the functionality of logistic regression for this assignment; logistic regression is implemented in Scikit-Learn, but you should do everything by hand now. You'll be able to use library implementations of logistic regression in the future.\n",
    "\n",
    "Here are the rules: \n",
    "\n",
    "- Do **NOT** load or use any Python packages that are not available in Anaconda 3.6. \n",
    "- Some problems with code may be autograded.  If we provide a function or class API **do not** change it.\n",
    "- Do not change the location of the data or data directory.  Use only relative paths to access the data. "
   ]
  },
  {
   "cell_type": "code",
   "execution_count": 4,
   "metadata": {},
   "outputs": [],
   "source": [
    "import numpy as np\n",
    "import matplotlib.pylab as plt\n",
    "%matplotlib inline "
   ]
  },
  {
   "cell_type": "markdown",
   "metadata": {},
   "source": [
    "### [5 points] Problem 1: Loading and Exploring the Data\n",
    "***\n",
    "\n",
    "The `Example` class will be used to store the features and labels associated with a single training or test example.  The `read_data` function will read in the text data and split it into training and test sets.  \n",
    "\n",
    " Load the data and then do the following: \n",
    "- Report the number of words in the vocabulary \n",
    "- Explain how the code is creating features (i.e. what text model is being used). \n",
    "- Go into the raw text files in the data directory and figure out which label (0/1) refers to which class of document (automobiles or motorcycles)"
   ]
  },
  {
   "cell_type": "code",
   "execution_count": 44,
   "metadata": {},
   "outputs": [],
   "source": [
    "kSEED = 1735\n",
    "kBIAS = \"BIAS_CONSTANT\"\n",
    "\n",
    "np.random.seed(kSEED)\n",
    "\n",
    "class Example:\n",
    "    \"\"\"\n",
    "    Class to represent a document example\n",
    "    \"\"\"\n",
    "    def __init__(self, label, words, vocab):\n",
    "        \"\"\"\n",
    "        Create a new example\n",
    "\n",
    "        :param label: The label (0 / 1) of the example\n",
    "        :param words: The words in a list of \"word:count\" format\n",
    "        :param vocab: The vocabulary to use as features (list)\n",
    "        \"\"\"\n",
    "        self.nonzero = {}\n",
    "        self.y = label\n",
    "        self.x = np.zeros(len(vocab))\n",
    "        for word, count in [x.split(\":\") for x in words]:\n",
    "            if word in vocab:\n",
    "                assert word != kBIAS, \"Bias can't actually appear in document\"\n",
    "                self.x[vocab.index(word)] += float(count)\n",
    "                self.nonzero[vocab.index(word)] = word\n",
    "        #print(self.x)\n",
    "        #print(self.nonzero)\n",
    "        self.x[0] = 1\n",
    "\n",
    "def read_dataset(positive, negative, vocab, train_frac=0.9):\n",
    "    \"\"\"\n",
    "    Reads in a text dataset with a given vocabulary\n",
    "\n",
    "    :param positive: Positive examples\n",
    "    :param negative: Negative examples\n",
    "    :param vocab: A list of vocabulary words\n",
    "    :param test_frac: How much of the data should be reserved for test\n",
    "    \"\"\"\n",
    "\n",
    "    vocab = [x.split(\"\\t\")[0] for x in open(vocab, 'r') if '\\t' in x]\n",
    "    assert vocab[0] == kBIAS, \\\n",
    "        \"First vocab word must be bias term (was %s)\" % vocab[0]\n",
    "\n",
    "    train_set = []\n",
    "    test_set = []\n",
    "    for label, input in [(1, positive), (0, negative)]:\n",
    "        for line in open(input):\n",
    "            ex = Example(label, line.split(), vocab)\n",
    "            if np.random.random() <= train_frac:\n",
    "                train_set.append(ex)\n",
    "            else:\n",
    "                test_set.append(ex)\n",
    "\n",
    "    # Shuffle the data \n",
    "    np.random.shuffle(train_set)\n",
    "    np.random.shuffle(test_set)\n",
    "\n",
    "    return train_set, test_set, vocab"
   ]
  },
  {
   "cell_type": "code",
   "execution_count": 45,
   "metadata": {},
   "outputs": [],
   "source": [
    "pos_fname = \"../data/autos_motorcycles/positive\"\n",
    "neg_fname = \"../data/autos_motorcycles/negative\"\n",
    "voc_fname = \"../data/autos_motorcycles/vocab\"\n",
    "train_set, test_set, vocab = read_dataset(pos_fname, neg_fname, voc_fname)\n",
    "\n"
   ]
  },
  {
   "cell_type": "markdown",
   "metadata": {},
   "source": [
    "[1] The number of words in vocabulary is : 5327\n",
    "\n",
    "[2] Bag-of-words, because the frequency of each word in the vocab is counted\n",
    "\n",
    "[3] lable 0 refers to automobiles, lable 1 refers to motorcycles\n",
    "\n"
   ]
  },
  {
   "cell_type": "code",
   "execution_count": null,
   "metadata": {},
   "outputs": [],
   "source": []
  },
  {
   "cell_type": "markdown",
   "metadata": {},
   "source": [
    "### [25 points] Problem 2: Implementing SGD with Lazy Sparse Regularization\n",
    "***\n",
    "\n",
    "We've given you a class `LogReg` below which will train a logistic regression classifier to predict whether a document is talking about automobiles or motorcycles. \n",
    "\n",
    "**Part A**: In this problem you will modify the `sgd_update` function to perform **unregularized** stochastic gradient descent updates of the weights. Note that you should only update the weights for **non-zero** features, i.e. weights associated with words that appear in the current training example. The code below this cell demonstrates how to instantiate the class and train the classifier.   \n",
    "\n",
    "We've also given you unit tests in the next cell based on the simple example worked out in  the Lecture 4 in-class notebook.  At first your code will fail both of them. When your code is working you should pass tests called `test_unreg` and `test_learnrate`.  Do not move on to **Part A** until your code passes both of them. "
   ]
  },
  {
   "cell_type": "code",
   "execution_count": 34,
   "metadata": {},
   "outputs": [],
   "source": [
    "class LogReg:\n",
    "    def __init__(self, train_set, test_set, lam, eta=0.1):\n",
    "        \"\"\"\n",
    "        Create a logistic regression classifier\n",
    "\n",
    "        :param train_set: A set of training examples\n",
    "        :param test_set: A set of test examples \n",
    "        :param lam: Regularization parameter\n",
    "        :param eta: The learning rate to use \n",
    "        \"\"\"\n",
    "        \n",
    "        # Store training and test sets \n",
    "        self.train_set = train_set\n",
    "        self.test_set = test_set \n",
    "        \n",
    "        # Initialize vector of weights to zero  \n",
    "        self.w = np.zeros_like(train_set[0].x)\n",
    "        \n",
    "        # Store regularization parameter and eta function \n",
    "        self.lam = lam\n",
    "        self.eta = eta\n",
    "        \n",
    "        # Create dictionary for lazy-sparse regularization\n",
    "        self.last_update = dict()\n",
    " \n",
    "\n",
    "        # Make sure regularization parameter is not negative \n",
    "        assert self.lam>= 0, \"Regularization parameter must be non-negative\"\n",
    "        \n",
    "        # Empty lists to store NLL and accuracy on train and test sets \n",
    "        self.train_nll = []\n",
    "        self.test_nll = []\n",
    "        self.train_acc = []\n",
    "        self.test_acc = []\n",
    "        \n",
    "    def sigmoid(self,score, threshold=20.0):\n",
    "        \"\"\"\n",
    "        Prevent overflow of exp by capping activation at 20.\n",
    "        You do not need to change this function. \n",
    "\n",
    "        :param score: A real valued number to convert into a number between 0 and 1\n",
    "        \"\"\"\n",
    "\n",
    "        # if score > threshold, cap value at score \n",
    "        if abs(score) > threshold:\n",
    "            score = threshold * np.sign(score)\n",
    "\n",
    "        return 1.0 / (1.0 + np.exp(-score)) \n",
    "\n",
    "    def compute_progress(self, examples):\n",
    "        \"\"\"\n",
    "        Given a set of examples, compute the NLL and accuracy\n",
    "        You shouldn't need to change this function. \n",
    "\n",
    "        :param examples: The dataset to score\n",
    "        :return: A tuple of (log probability, accuracy)\n",
    "        \"\"\"\n",
    "\n",
    "        NLL = 0.0\n",
    "        num_correct = 0\n",
    "        for ex in examples:\n",
    "            # compute prob prediction\n",
    "            p = self.sigmoid(self.w.dot(ex.x))\n",
    "            # update negative log likelihood\n",
    "            NLL = NLL - np.log(p) if ex.y==1 else NLL - np.log(1.0-p)\n",
    "            # update number correct \n",
    "            num_correct += 1 if np.floor(p+.5)==ex.y else 0\n",
    "\n",
    "        return NLL, float(num_correct) / float(len(examples))\n",
    "    \n",
    "    def train(self, num_epochs=1, isVerbose=False, report_step=5):\n",
    "        \"\"\"\n",
    "        Train the logistic regression classifier on the training data \n",
    "\n",
    "        :param num_epochs: number of full passes over data to perform \n",
    "        :param isVerbose: boolean indicating whether to print progress\n",
    "        :param report_step: how many iterations between recording progress\n",
    "        \"\"\"\n",
    "        iteration = 0\n",
    "        # Perform an epoch \n",
    "        for pp in range(num_epochs):\n",
    "            # shuffle the data  \n",
    "            np.random.shuffle(self.train_set)\n",
    "            # loop over each training example\n",
    "            for ex in self.train_set:\n",
    "                # perform SGD update of weights \n",
    "                self.sgd_update(ex, iteration)\n",
    "                # record progress \n",
    "                if iteration % report_step == 1:\n",
    "                    train_nll, train_acc = self.compute_progress(self.train_set)\n",
    "                    test_nll, test_acc = self.compute_progress(self.test_set)\n",
    "                    self.train_nll.append(train_nll)\n",
    "                    self.test_nll.append(test_nll)\n",
    "                    self.train_acc.append(train_acc)\n",
    "                    self.test_acc.append(test_acc)\n",
    "                    if isVerbose:\n",
    "                        print(\"Update {: 5d}  TrnNLL {: 8.3f}  TstNLL {: 8.3f}  TrnA {:.3f}  TstA {:.3f}\"\n",
    "                             .format(iteration-1, train_nll, test_nll, train_acc, test_acc))\n",
    "                iteration += 1\n",
    "    \n",
    "    def sgd_update(self, train_example, iteration):\n",
    "        \"\"\"\n",
    "        Compute a stochastic gradient update to improve the NLL \n",
    "\n",
    "        :param train_example: The example to take the gradient with respect to\n",
    "        :param iteration: The current iteration (an integer)\n",
    "        \"\"\"\n",
    "        \n",
    "        # TODO implement LSR updates of weights \n",
    "        x = train_example.x\n",
    "        y = train_example.y\n",
    "        shrinkage = 1 - 2*self.lam * self.eta\n",
    "        \n",
    "\n",
    "        if self.lam == 0:\n",
    "            #calculate sigmoid with updated w\n",
    "            smii = self.sigmoid(np.dot(np.transpose(self.w),x)) - y\n",
    "            for kk in range(len(self.w)):\n",
    "                if x[kk] != 0:\n",
    "                    self.w[kk] -= self.eta * smii * x[kk]\n",
    "\n",
    "            \n",
    "        elif self.lam > 0 :\n",
    "                    \n",
    "            smii = self.sigmoid(np.dot(np.transpose(self.w),x)) - y\n",
    "            \n",
    "            if iteration == 0:\n",
    "                \n",
    "                for i in range(len(x)):\n",
    "                    self.last_update.update({i:-1})\n",
    "                \n",
    "                for kk in range(len(self.w)):\n",
    "                    if x[kk] != 0:\n",
    "                        self.w[kk] -= self.eta * smii * x[kk] \n",
    "                        self.last_update[kk] = iteration\n",
    "\n",
    "                        if kk > 0:\n",
    "                            self.w[kk] *= shrinkage\n",
    "                                                        \n",
    "                            \n",
    "            if iteration > 0:                            \n",
    "                for jj in range(len(self.w)):\n",
    "                    if x[jj] != 0:\n",
    "                        self.w[jj] -= smii * x[jj]  \n",
    "                        \n",
    "                        if jj >0:\n",
    "                            m = iteration - self.last_update.get(jj)\n",
    "                            self.w[jj] *= (shrinkage ** m)\n",
    "                            self.last_update[jj] = iteration\n",
    "                                    "
   ]
  },
  {
   "cell_type": "code",
   "execution_count": 35,
   "metadata": {},
   "outputs": [],
   "source": [
    "lr = LogReg(train_set, test_set, lam=0.25, eta=1)\n",
    "lr.train(isVerbose=False)\n"
   ]
  },
  {
   "cell_type": "markdown",
   "metadata": {},
   "source": [
    "The unit tests are located in the script `tests.py` in this directory.  Execute the following cell to call the script and run the tests. "
   ]
  },
  {
   "cell_type": "code",
   "execution_count": 46,
   "metadata": {},
   "outputs": [],
   "source": [
    "#print(lr.test_acc)\n",
    "    \n"
   ]
  },
  {
   "cell_type": "code",
   "execution_count": 31,
   "metadata": {},
   "outputs": [
    {
     "name": "stderr",
     "output_type": "stream",
     "text": [
      "test_unreg (__main__.TestLogReg) ... ok\n",
      "test_learnrate (__main__.TestLogReg) ... ok\n",
      "\n",
      "----------------------------------------------------------------------\n",
      "Ran 2 tests in 0.005s\n",
      "\n",
      "OK\n"
     ]
    }
   ],
   "source": [
    "%run -i tests.py \"part A\""
   ]
  },
  {
   "cell_type": "markdown",
   "metadata": {},
   "source": [
    "**Part B**: After your unregularized updates are working, modify the `sgd_update` function again to perform regularized updates using **Lazy Sparse Regularization**. Note that you should not regularize the bias weight. See the Lecture 4 in-class notebook for a refresher on LSR. **Note**: After implementing LSR, your code should still pass the unit tests for **Part A** when `lam = 0`. \n",
    "\n",
    "We've given you a third unit test in the next cell called `test_reg` based on the simple example of LSR worked out in  the Lecture 4 in-class notebook.  Do not move on to **Problem 3** until your code passes the test. "
   ]
  },
  {
   "cell_type": "code",
   "execution_count": 32,
   "metadata": {
    "scrolled": true
   },
   "outputs": [
    {
     "name": "stderr",
     "output_type": "stream",
     "text": [
      "test_reg (__main__.TestLogReg) ... ok\n",
      "\n",
      "----------------------------------------------------------------------\n",
      "Ran 1 test in 0.003s\n",
      "\n",
      "OK\n"
     ]
    }
   ],
   "source": [
    "%run -i tests.py \"part B\""
   ]
  },
  {
   "cell_type": "markdown",
   "metadata": {},
   "source": [
    "### [10 points] Problem 3: Hyperparameter Tuning \n",
    "***\n",
    "\n",
    "**Part A**: Perform a systematic study of the effect of the regularization parameter on the accuracy of your classifier on the test set.  Which choice of `lam` seems to do the best?  Justify your conclusion with some kind of graphic. "
   ]
  },
  {
   "cell_type": "code",
   "execution_count": 48,
   "metadata": {},
   "outputs": [
    {
     "name": "stdout",
     "output_type": "stream",
     "text": [
      "[0.9482758620689655, 0.7758620689655172, 0.7931034482758621, 0.7586206896551724, 0.6982758620689655, 0.5344827586206896, 0.6724137931034483, 0.6724137931034483, 0.646551724137931, 0.6896551724137931]\n"
     ]
    }
   ],
   "source": [
    "lam_l= np.arange(0.0,1.0,0.1)\n",
    "acc = []\n",
    "for i in lam_l:\n",
    "    lr = LogReg(train_set, test_set, lam=i, eta = 1)\n",
    "    lr.train()\n",
    "    acc.append(max(lr.test_acc))\n",
    "\n",
    "print(acc)"
   ]
  },
  {
   "cell_type": "code",
   "execution_count": 95,
   "metadata": {
    "scrolled": true
   },
   "outputs": [
    {
     "data": {
      "image/png": "[encoded data removed]",
      "text/plain": [
       "<matplotlib.figure.Figure at 0x10cb61518>"
      ]
     },
     "metadata": {},
     "output_type": "display_data"
    }
   ],
   "source": [
    "plt.plot(lam_l, acc, 'ro')\n",
    "plt.axis([0, 1.0, 0, 1.0])\n",
    "plt.title(\"accuracy vc lamda\")\n",
    "plt.xlabel(\"lamda\")\n",
    "plt.ylabel(\"accuracy\")\n",
    "plt.show()"
   ]
  },
  {
   "attachments": {
    "image.png": {
     "image/png": "[encoded data removed]"
    }
   },
   "cell_type": "markdown",
   "metadata": {},
   "source": [
    "Below plot is the relation of lam and accuracy of classifier on test set. As we can see, when lam=0, the accuracy result seems the best. \n",
    "![image.png](attachment:image.png)"
   ]
  },
  {
   "cell_type": "markdown",
   "metadata": {},
   "source": [
    "**Part B**: For the value of `lam` chosen in **Part A** perform a systematic study of the choice of learning rate on the speed of convergence SGD.  Which learning rate seems to give the fastest convergence?  Justify your conclusion with some kind of graphic. "
   ]
  },
  {
   "cell_type": "code",
   "execution_count": 99,
   "metadata": {},
   "outputs": [],
   "source": [
    "theta = np.arange(0.1,1.1,0.2)\n",
    "acc2 = []\n",
    "acc_max = []\n",
    "for i in theta:\n",
    "    lr = LogReg(train_set, test_set, lam=0, eta=i)\n",
    "    lr.train()\n",
    "    acc2.append(lr.test_acc)\n",
    "    acc_max.append(np.average(lr.test_acc))\n",
    "\n"
   ]
  },
  {
   "cell_type": "code",
   "execution_count": 101,
   "metadata": {},
   "outputs": [
    {
     "data": {
      "image/png": "[encoded data removed]",
      "text/plain": [
       "<matplotlib.figure.Figure at 0x10c738b70>"
      ]
     },
     "metadata": {},
     "output_type": "display_data"
    }
   ],
   "source": [
    "for i in range (len(acc2)):\n",
    "    x = range(len(lr.test_acc))\n",
    "    y = acc2[i]\n",
    "\n",
    "    plt.plot(x,[0.9]*len(lr.test_acc))\n",
    "    plt.plot(x,y,label=\"eta=0.%d\"%(2*i+1))\n",
    "    plt.title(\"accuracy vc iteration\")\n",
    "    plt.xlabel(\"iteration\")\n",
    "    plt.ylabel(\"accuracy\")\n",
    "    plt.legend()"
   ]
  },
  {
   "attachments": {
    "image.png": {
     "image/png": "[encoded data removed]"
    }
   },
   "cell_type": "markdown",
   "metadata": {},
   "source": [
    "Below plot is the relation of accuracy and iteration. As we can see, when eta =0.1, it converges the fastest, and when eta =0.3, it is also fast. However, the accuracy of test set is the highest when eta =0.1. Combining these two facts, the learning rate of 0.1 is a good rate.\n",
    "![image.png](attachment:image.png)"
   ]
  },
  {
   "cell_type": "markdown",
   "metadata": {},
   "source": [
    "### [10 points] Problem 4: Identifying Predictive and Non-Predictive Words \n",
    "***\n",
    "\n",
    "**Part A**: Find the top 10 words that are the best predictors for each class.  Explain mathematically how you identified them and show any code that you used to find them. "
   ]
  },
  {
   "cell_type": "code",
   "execution_count": 137,
   "metadata": {},
   "outputs": [
    {
     "name": "stdout",
     "output_type": "stream",
     "text": [
      "car\n",
      "-1.83110173723\n",
      "school\n",
      "-1.1480475995\n",
      "list\n",
      "-1.11391526787\n",
      "cars\n",
      "-0.973677863343\n",
      "price\n",
      "-0.824224472698\n",
      "spring\n",
      "-0.806567522356\n",
      "welty\n",
      "-0.775448933815\n",
      "request\n",
      "-0.738112528076\n",
      "acs\n",
      "-0.697450641746\n",
      "andrew\n",
      "-0.693915890755\n",
      "parking\n",
      "0.708448217032\n",
      "moa\n",
      "0.712370581855\n",
      "jonathan\n",
      "0.876283444807\n",
      "riding\n",
      "0.952744265133\n",
      "helmet\n",
      "0.955146758184\n",
      "rider\n",
      "0.996085383546\n",
      "ride\n",
      "1.13113610007\n",
      "bikes\n",
      "1.21515457215\n",
      "bike\n",
      "1.94299604747\n",
      "dod\n",
      "2.11672207852\n"
     ]
    }
   ],
   "source": [
    "lr = LogReg(train_set, test_set, lam=0, eta = 0.1)\n",
    "lr.train()\n",
    "w_dict = {}\n",
    "for i in range(len(vocab)):\n",
    "    w_dict.update({vocab[i]:lr.w[i]})\n",
    "\n",
    "sort_d = sorted(w_dict.values())\n",
    "neg = sort_d[0:10]\n",
    "pos = sort_d[-10:]\n",
    "\n",
    "for i in range(10):\n",
    "    \n",
    "    negword = list(w_dict.keys())[list(w_dict.values()).index(neg[i])]\n",
    "\n",
    "    print(negword)\n",
    "    print(w_dict[negword])\n",
    "\n",
    "\n",
    "for i in range(10):\n",
    "    \n",
    "    posword = list(w_dict.keys())[list(w_dict.values()).index(pos[i])]\n",
    "    print(posword)\n",
    "    print(w_dict[posword])\n",
    "    \n"
   ]
  },
  {
   "cell_type": "markdown",
   "metadata": {},
   "source": [
    "The way to identify the best predictors for each class is to sort according to the weight of each word. If the weight is negative, it means the word contributes in predicting the negative class which is the motorcyle class. If the weight is positive, it means the word contribute in predicting the positive class which is the motorcyle class. The bigger absolute value of the weight, the better prediction it makes to each class.\n",
    "\n",
    "The top 10 words that are best predictors for predicting automobiles(class 0):\n",
    "\n",
    "car \n",
    "-1.83110173723\n",
    "\n",
    "school\n",
    "-1.1480475995\n",
    "\n",
    "list\n",
    "-1.11391526787\n",
    "\n",
    "cars\n",
    "-0.973677863343\n",
    "\n",
    "price\n",
    "-0.824224472698\n",
    "\n",
    "spring\n",
    "-0.806567522356\n",
    "\n",
    "welty\n",
    "-0.775448933815\n",
    "\n",
    "request\n",
    "-0.738112528076\n",
    "\n",
    "acs\n",
    "-0.697450641746\n",
    "\n",
    "andrew\n",
    "-0.693915890755\n",
    "\n",
    "\n",
    "The top 10 words that are best predictors for prediction motorcycles(class 1):\n",
    "\n",
    "parking\n",
    "0.708448217032\n",
    "\n",
    "moa\n",
    "0.712370581855\n",
    "\n",
    "jonathan\n",
    "0.876283444807\n",
    "\n",
    "riding\n",
    "0.952744265133\n",
    "\n",
    "helmet\n",
    "0.955146758184\n",
    "\n",
    "rider\n",
    "0.996085383546\n",
    "\n",
    "ride\n",
    "1.13113610007\n",
    "\n",
    "bikes\n",
    "1.21515457215\n",
    "\n",
    "bike\n",
    "1.94299604747\n",
    "\n",
    "dod\n",
    "2.11672207852"
   ]
  },
  {
   "cell_type": "markdown",
   "metadata": {},
   "source": [
    "**Part B**: Find the 10 words that are the worst predictors for class.  Explain mathematically how you identified them and show any code that you used to find them. "
   ]
  },
  {
   "cell_type": "code",
   "execution_count": 153,
   "metadata": {},
   "outputs": [
    {
     "name": "stdout",
     "output_type": "stream",
     "text": [
      "differently\n",
      "-2.06115354421e-10\n",
      "differently\n",
      "-2.06115354421e-10\n",
      "obey\n",
      "-4.12230723638e-10\n",
      "goodyear\n",
      "-8.24461447276e-10\n",
      "predictable\n",
      "-1.75401200212e-09\n",
      "comprising\n",
      "-2.10319930342e-09\n",
      "fences\n",
      "-2.30931466524e-09\n",
      "disciplined\n",
      "-2.51543002706e-09\n",
      "similarly\n",
      "-3.02400927786e-09\n",
      "aging\n",
      "-4.24081416351e-09\n",
      "traded\n",
      "-3.26742404765e-08\n"
     ]
    },
    {
     "data": {
      "text/plain": [
       "'\\n\\n# put weight>=0 in a list\\npos = []\\n#weight <0 in a list\\nneg = []\\n\\nfor i in range(len(sort_d)):\\n    if sort_d[i] >=0:\\n        pos.append(sort_d[i])\\n    elif sort_d[i] < 0:\\n        neg.append(sort_d[i])\\n        \\npos = pos[0:10]\\nneg = neg[-10:]\\n\\nprint(pos)\\nprint(neg)\\n'"
      ]
     },
     "execution_count": 153,
     "metadata": {},
     "output_type": "execute_result"
    }
   ],
   "source": [
    "\n",
    "sort_abs = sorted(sort_d,key=abs)\n",
    "#print(sort_abs)\n",
    "\n",
    "worst_w = sort_abs[0:11]\n",
    "\n",
    "for i in range(11):\n",
    "    \n",
    "    worstword = list(w_dict.keys())[list(w_dict.values()).index(worst_w[i])]\n",
    "\n",
    "    print(worstword)\n",
    "    print(w_dict[worstword])\n",
    "\n",
    "    \n"
   ]
  },
  {
   "cell_type": "markdown",
   "metadata": {},
   "source": [
    "The way to identify the worst words in predicting class is to find the words whose weights are closest to zero. That is to sort the weight by the absolute value and take the smallest 10 weight values. Because if the weight is very close to zero, the word contributes very little for this class. \n",
    "\n",
    "\n",
    "The top 10 worst words in predicting class are listed follows:\n",
    "\n",
    "differently\n",
    "-2.06115354421e-10\n",
    "\n",
    "obey\n",
    "-4.12230723638e-10\n",
    "\n",
    "goodyear\n",
    "-8.24461447276e-10\n",
    "\n",
    "predictable\n",
    "-1.75401200212e-09\n",
    "\n",
    "comprising\n",
    "-2.10319930342e-09\n",
    "\n",
    "fences\n",
    "-2.30931466524e-09\n",
    "\n",
    "disciplined\n",
    "-2.51543002706e-09\n",
    "\n",
    "similarly\n",
    "-3.02400927786e-09\n",
    "\n",
    "aging\n",
    "-4.24081416351e-09\n",
    "\n",
    "traded\n",
    "-3.26742404765e-08"
   ]
  },
  {
   "cell_type": "code",
   "execution_count": null,
   "metadata": {},
   "outputs": [],
   "source": []
  }
 ],
 "metadata": {
  "kernelspec": {
   "display_name": "Python 3",
   "language": "python",
   "name": "python3"
  },
  "language_info": {
   "codemirror_mode": {
    "name": "ipython",
    "version": 3
   },
   "file_extension": ".py",
   "mimetype": "text/x-python",
   "name": "python",
   "nbconvert_exporter": "python",
   "pygments_lexer": "ipython3",
   "version": "3.6.4"
  }
 },
 "nbformat": 4,
 "nbformat_minor": 2
}
